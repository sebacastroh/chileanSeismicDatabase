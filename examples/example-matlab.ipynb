{
 "cells": [
  {
   "cell_type": "markdown",
   "id": "c6d57bb4-9194-4ab4-b477-af2eaa44f737",
   "metadata": {},
   "source": [
    "# **SIBER-RISK Strong Motion Database - Matlab/Octave example**\n",
    "\n",
    "In this Jupyter notebook we will explore the data structure for the *.mat* files of the SIBER-RISK's database using Matlab/Octave."
   ]
  },
  {
   "cell_type": "markdown",
   "id": "ac23906b-b044-4136-ba1c-cf19685cee9e",
   "metadata": {},
   "source": [
    "## **1. Dataset: 20240629_5.0M_23.97S_70.25W_44.0KM**\n",
    "\n",
    "The *event_id* is composed by the date of the event (*2029-06-29*), its magnitude (*5.0*), hypocenter latitude (*-23.97*), hypocenter longitude (*-70.25*) and depth (*44.0*)."
   ]
  },
  {
   "cell_type": "code",
   "execution_count": 1,
   "id": "e69ec61c-2efc-4caa-b54c-6161bbe0cd67",
   "metadata": {},
   "outputs": [],
   "source": [
    "filename = '20240629_5.0M_23.97S_70.25W_44.0KM.mat';\n",
    "load(filename);"
   ]
  },
  {
   "cell_type": "markdown",
   "id": "74cfadac-e5e2-4682-81f8-48f158f0f3a4",
   "metadata": {},
   "source": [
    "You can recover the *event_id* directly in Matlab/Octave:"
   ]
  },
  {
   "cell_type": "code",
   "execution_count": 2,
   "id": "0fef5a86-c689-465b-b499-4944b6c0c1fb",
   "metadata": {},
   "outputs": [
    {
     "name": "stdout",
     "output_type": "stream",
     "text": [
      "Event ID: 20240629_5.0M_23.97S_70.25W_44.0KM"
     ]
    }
   ],
   "source": [
    "fprintf('Event ID: %s', event_id);"
   ]
  },
  {
   "cell_type": "markdown",
   "id": "2b6f6a44-62a2-47d9-8602-1016aa17051d",
   "metadata": {},
   "source": [
    "### **1.1 License of use**"
   ]
  },
  {
   "cell_type": "code",
   "execution_count": 3,
   "id": "8a8bbe5a-52ab-4feb-a99b-4b00948144ba",
   "metadata": {},
   "outputs": [
    {
     "name": "stdout",
     "output_type": "stream",
     "text": [
      "This SIBER-RISK Strong Motion Database is made available under the Creative Commons Attribution-NonCommercial-ShareAlike 4.0 International Public License: https://creativecommons.org/licenses/by-nc-sa/4.0/legalcode. Any rights in individual contents of the database are licensed under the Creative Commons Attribution-NonCommercial-ShareAlike 4.0 International Public License: https://creativecommons.org/licenses/by-nc-sa/4.0/legalcode"
     ]
    }
   ],
   "source": [
    "fprintf(licensing)"
   ]
  },
  {
   "cell_type": "markdown",
   "id": "794fa5cc-60e6-4c47-810c-6d53887bdefc",
   "metadata": {},
   "source": [
    "### **1.2 How to cite this database**"
   ]
  },
  {
   "cell_type": "code",
   "execution_count": 4,
   "id": "8f79194c-759c-4417-a235-2bd92ad219df",
   "metadata": {},
   "outputs": [
    {
     "name": "stdout",
     "output_type": "stream",
     "text": [
      "Sebastián Castro, Roberto Benavente, Jorge G. F. Crempien, Gabriel Candia, Juan Carlos de la Llera; A Consistently Processed Strong‐Motion Database for Chilean Earthquakes. Seismological Research Letters 2022;; 93 (5): 2700–2718. doi: https://doi.org/10.1785/02202"
     ]
    }
   ],
   "source": [
    "fprintf(cite)"
   ]
  },
  {
   "cell_type": "markdown",
   "id": "b47667ea-1772-49e3-bcd4-96857e8a9ed6",
   "metadata": {},
   "source": [
    "### **1.3 Database url**"
   ]
  },
  {
   "cell_type": "code",
   "execution_count": 5,
   "id": "b7cd1c78-190a-44bb-ada9-0f885ab83cef",
   "metadata": {},
   "outputs": [
    {
     "name": "stdout",
     "output_type": "stream",
     "text": [
      "https://doi.org/10.7764/datasetUC/ING-UC.1170836_1"
     ]
    }
   ],
   "source": [
    "fprintf(databaseURL)"
   ]
  },
  {
   "cell_type": "markdown",
   "id": "715aa01d-91f4-4d6e-8c53-9c39cad7f10a",
   "metadata": {},
   "source": [
    "## **2. Stations**\n",
    "\n",
    "All the station keys start with the prefix *st* followed by a zero padded number from *0* to *n-1*, being *n* the total number of stations recorded."
   ]
  },
  {
   "cell_type": "code",
   "execution_count": 6,
   "id": "5c06dd55-59af-4a1d-b32f-da801d50108e",
   "metadata": {},
   "outputs": [
    {
     "name": "stdout",
     "output_type": "stream",
     "text": [
      "Total stations: 2"
     ]
    }
   ],
   "source": [
    "n = 0;\n",
    "while exist(strcat('st', num2str(n, '%0.2i'))) == 1\n",
    "    n = n + 1;\n",
    "end\n",
    "fprintf('Total stations: %i', n)"
   ]
  },
  {
   "cell_type": "markdown",
   "id": "13ce7cf0-bab3-4fbf-8af5-209d9a8405ad",
   "metadata": {},
   "source": [
    "### **2.1 Data structure**\n",
    "\n",
    "Each station is a structure with the following keys\n",
    "\n",
    "#### **2.1.1 Event properties**\n",
    "\n",
    "| Key | Description |\n",
    "| -- | -- |\n",
    "| magnitude | Reported event magnitude |\n",
    "| hypocenter_lon | Hyponcenter longitude in decimals |\n",
    "| hypocenter_lat | Hypocenter latitude in decimals |\n",
    "| depth | Hypocenter depth in kilometers |\n",
    "| event_type | Event type (interface, intraslab, crustal or undetermined) |\n",
    "\n",
    "#### **2.1.2 Station properties**\n",
    "\n",
    "| Key | Description |\n",
    "| -- | -- |\n",
    "| station_name | Station name or *Unknown* |\n",
    "| station_code | Station code |\n",
    "| station_lon | Station longitude in decimals |\n",
    "| station_lat | Station latitude in decimals |\n",
    "| vs30 | Station Vs30 in m/s |\n",
    "| azimuth | Station azimuth in degrees |\n",
    "| Rhypo | Hypocentral distance in kilometers |\n",
    "| Repi | Epicentral distance in kilometers |\n",
    "| Rrup | Rupture distance in kilometers | \n",
    "| Rjb | Joyner-Boore distance in kilometers |\n",
    "\n",
    "#### **2.1.3 Record properties**\n",
    "\n",
    "Each station has three channels (1, 2 and 3), with channel 3 being the vertical one. Replace the suffix *i* with your channel of interest.\n",
    "\n",
    "| Key | Description |\n",
    "| -- | -- |\n",
    "| starttime | Start date and time of the records in format *YYYY-MM-DDThh:mm:ss.msZ* |\n",
    "| dt | Temporal discretization in seconds |\n",
    "| p_wave | Position of the P-Wave arrival |\n",
    "| component_*i* | Name of the component *i* |\n",
    "| corner_freqs_*i* | Corner frequencies used in the filtered acceleration for component *i* |\n",
    "| acc_uncorrected_*i* | Uncorrected acceleration for component *i* |\n",
    "| acc_corrected_*i* | Corrected acceleration for component *i* |\n",
    "| acc_filtered_*i* | Filtered acceleration for component *i* |\n",
    "\n",
    "#### **2.1.3 Miscellaneous**\n",
    "\n",
    "| Key | Description |\n",
    "| -- | -- |\n",
    "| units | Units used in the event, station and record properties |\n",
    "| last_update | Date and time of the last update |"
   ]
  },
  {
   "cell_type": "markdown",
   "id": "1fa89ff7-e14b-43c2-9d36-e1a2fe8ee4e3",
   "metadata": {},
   "source": [
    "### **2.2 Data visualization**\n",
    "\n",
    "The following code shows how to compute and visualize the velocity and displacement for a filtered record."
   ]
  },
  {
   "cell_type": "code",
   "execution_count": 7,
   "id": "e9c85fab-3e01-424a-addb-197f6843f190",
   "metadata": {},
   "outputs": [],
   "source": [
    "% Choose the station and component of your interest\n",
    "station   = st00;\n",
    "component = 1;\n",
    "\n",
    "% Properties\n",
    "dt     = station.dt;\n",
    "p_wave = station.p_wave;\n",
    "n      = length(station.(strcat('acc_filtered_', num2str(component))));\n",
    "t      = linspace(0., (n-1)*dt, n);\n",
    "label  = station.(strcat('component_', num2str(component)));"
   ]
  },
  {
   "cell_type": "markdown",
   "id": "90b0ea92-d06b-4ccc-9c5b-db137897c812",
   "metadata": {},
   "source": [
    "#### **Acceleration**"
   ]
  },
  {
   "cell_type": "code",
   "execution_count": 8,
   "id": "f84aacca-f62e-4a48-a57f-61b7c06f2074",
   "metadata": {},
   "outputs": [
    {
     "data": {
      "image/png": "[encoded data removed]",
      "text/plain": [
       "<IPython.core.display.Image object>"
      ]
     },
     "metadata": {},
     "output_type": "display_data"
    }
   ],
   "source": [
    "acc = station.(strcat('acc_filtered_', num2str(component)));\n",
    "\n",
    "figure('units', 'pixels', 'position', [0, 0, 1200, 300])\n",
    "plot(t, acc/9.81)\n",
    "set(gca,'fontsize', 5)\n",
    "xlabel('Time [s]')\n",
    "ylabel('Acceleration [g]')\n",
    "legend(label)"
   ]
  },
  {
   "cell_type": "markdown",
   "id": "c6291bc1-2d59-4ae2-9882-bc66c19c353f",
   "metadata": {},
   "source": [
    "#### **Velocity**"
   ]
  },
  {
   "cell_type": "code",
   "execution_count": 9,
   "id": "00028a13-77f8-4408-bec8-e6366c2a47f1",
   "metadata": {},
   "outputs": [
    {
     "data": {
      "image/png": "[encoded data removed]",
      "text/plain": [
       "<IPython.core.display.Image object>"
      ]
     },
     "metadata": {},
     "output_type": "display_data"
    }
   ],
   "source": [
    "vel = cumtrapz(t, acc);\n",
    "if p_wave > 0\n",
    "    vel = vel - mean(vel(1:p_wave));\n",
    "end\n",
    "\n",
    "figure('units', 'pixels', 'position', [0, 0, 1200, 300])\n",
    "plot(t, vel)\n",
    "set(gca,'fontsize', 5)\n",
    "xlabel('Time [s]')\n",
    "ylabel('Velocity [m/s]')\n",
    "legend(label)"
   ]
  },
  {
   "cell_type": "markdown",
   "id": "5fdeabc2-bacf-449a-9f70-a27d99e0a38e",
   "metadata": {},
   "source": [
    "#### **Displacement**"
   ]
  },
  {
   "cell_type": "code",
   "execution_count": 10,
   "id": "8de74d39-b340-481e-8b82-1295bc8ca928",
   "metadata": {},
   "outputs": [
    {
     "data": {
      "image/png": "[encoded data removed]",
      "text/plain": [
       "<IPython.core.display.Image object>"
      ]
     },
     "metadata": {},
     "output_type": "display_data"
    }
   ],
   "source": [
    "dis = cumtrapz(t, vel);\n",
    "if p_wave > 0\n",
    "    dis = dis - mean(dis(1:p_wave));\n",
    "end\n",
    "\n",
    "figure('units', 'pixels', 'position', [0, 0, 1200, 300])\n",
    "plot(t, dis)\n",
    "set(gca,'fontsize', 5)\n",
    "xlabel('Time [s]')\n",
    "ylabel('Displacement [m]')\n",
    "legend(label)"
   ]
  }
 ],
 "metadata": {
  "kernelspec": {
   "display_name": "Octave",
   "language": "octave",
   "name": "octave"
  },
  "language_info": {
   "file_extension": ".m",
   "help_links": [
    {
     "text": "GNU Octave",
     "url": "https://www.gnu.org/software/octave/support.html"
    },
    {
     "text": "Octave Kernel",
     "url": "https://github.com/Calysto/octave_kernel"
    },
    {
     "text": "MetaKernel Magics",
     "url": "https://metakernel.readthedocs.io/en/latest/source/README.html"
    }
   ],
   "mimetype": "text/x-octave",
   "name": "octave",
   "version": "9.2.0"
  }
 },
 "nbformat": 4,
 "nbformat_minor": 5
}
